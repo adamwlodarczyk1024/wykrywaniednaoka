{
 "cells": [
  {
   "cell_type": "markdown",
   "metadata": {},
   "source": [
    "# Wykrywanie dna oka"
   ]
  },
  {
   "cell_type": "code",
   "execution_count": null,
   "metadata": {},
   "outputs": [],
   "source": [
    "import scipy.signal as signal\n",
    "import numpy as np\n",
    "import matplotlib.pyplot as plt\n",
    "import matplotlib.ticker as ticker\n",
    "import matplotlib\n",
    "import imageio\n",
    "import cv2\n",
    "import skimage.draw\n",
    "from skimage import io, feature, color, feature, filters, draw\n",
    "import math\n",
    "import sys\n",
    "import ipywidgets as widgets\n",
    "from ipywidgets import interact\n",
    "import os\n",
    "np.set_printoptions(threshold=sys.maxsize)\n",
    "from skimage.filters.edges import convolve\n",
    "import skimage.morphology as mp\n",
    "from skimage.morphology import square\n",
    "from skimage.filters import frangi, hessian, sobel\n",
    "\n",
    "from sklearn import metrics, ensemble\n",
    "from sklearn.model_selection import cross_val_score\n",
    "from sklearn.utils import resample\n",
    "import functools\n",
    "import operator\n",
    "import pandas as pd\n",
    "\n",
    "def img_green2gray(image):\n",
    "    x=image.shape[0]\n",
    "    y=image.shape[1]\n",
    "    img = np.zeros( (x, y), dtype='uint8')\n",
    "    for i in range(image.shape[0]):\n",
    "        for j in range(image.shape[1]):\n",
    "            if(image[i,j,1]<40):\n",
    "                img[i,j]=0\n",
    "            elif(sum(image[i,j])<100):\n",
    "                img[i,j]=0\n",
    "            else:\n",
    "                img[i,j]=255-np.clip(image[i,j,1],0,140)\n",
    "    return img\n",
    "\n",
    "def img_green2gray_limit(image):\n",
    "    x=image.shape[0]\n",
    "    y=image.shape[1]\n",
    "    img = np.zeros( (x, y), dtype='uint8')\n",
    "    for i in range(image.shape[0]):\n",
    "        for j in range(image.shape[1]):       \n",
    "            img[i,j]=np.clip(image[i,j,1],0,100)+np.sqrt(np.clip(image[i,j,1]-100,0,155))\n",
    "    return img\n",
    "\n",
    "def compare(image, image1):\n",
    "    x=image.shape[0]\n",
    "    y=image.shape[1]\n",
    "    img = np.zeros( (x, y), dtype='uint8')\n",
    "    for i in range(image.shape[0]):\n",
    "        for j in range(image.shape[1]):\n",
    "            if(image[i,j])<50:\n",
    "                img[i,j]=0\n",
    "            else:\n",
    "                img[i,j]=np.clip(image[i,j]-image1[i,j], 40, 255)        \n",
    "    return img\n",
    "\n",
    "def compare_2(image, image1):\n",
    "    x=image.shape[0]\n",
    "    y=image.shape[1]\n",
    "    img = np.zeros( (x, y), dtype='uint8')\n",
    "    for i in range(image.shape[0]):\n",
    "        for j in range(image.shape[1]):\n",
    "            if image[i,j]-image1[i,j]>0.85*image[i,j]:\n",
    "                img[i,j]=255\n",
    "            else:\n",
    "                img[i,j]=0           \n",
    "    return img\n",
    "\n",
    "def compare_3(image, image1):\n",
    "    x=image.shape[0]\n",
    "    y=image.shape[1]\n",
    "    img = np.zeros( (x, y), dtype='uint8')\n",
    "    for i in range(image.shape[0]):\n",
    "        for j in range(image.shape[1]):\n",
    "            if image[i,j]-image1[i,j]>0.85*image[i,j]:\n",
    "                img[i,j]=255\n",
    "            else:\n",
    "                img[i,j]=0           \n",
    "    return img\n",
    "\n",
    "\n",
    "def apply_mask(img, mask):\n",
    "    image = np.ndarray(shape=img.shape)\n",
    "    for i in range(img.shape[0]):\n",
    "        for j in range(img.shape[1]):\n",
    "            if mask[i,j] == 255:\n",
    "                image[i,j]=[0, 200, 100]\n",
    "            else:\n",
    "                image[i,j]=img[i,j]\n",
    "    return image\n",
    "\n",
    "\n",
    "\n",
    "def image_processing(image):\n",
    "    img_green = image[:, :, 1]\n",
    "    \n",
    "    #mp.dilation(sobel(sobel(sobel(feature.canny(f_0, sigma=3))))\n",
    "    \n",
    "    img_pre_frangi = mp.dilation(sobel(feature.canny(img_green, sigma=0.5)))\n",
    "    img_frangi = mp.dilation(sobel(feature.canny(img_green, sigma=0.5)))\n",
    "    #img_frangi = frangi(img_green)\n",
    "    for i in range(len(img_frangi)):\n",
    "        for j in range(len(img_frangi[i])):\n",
    "            if img_frangi[i][j] > 0.0000004:\n",
    "                img_frangi[i][j] = 255\n",
    "            else:\n",
    "                img_frangi[i][j] = 0\n",
    "\n",
    "    img_mask = cv2.cvtColor(img, cv2.COLOR_RGB2GRAY)\n",
    "    (thresh, blackAndWhiteImage) = cv2.threshold(img_mask, 1, 255, cv2.THRESH_BINARY)\n",
    "\n",
    "    kernel = np.ones((5, 5), np.uint8)\n",
    "    blackAndWhiteImage = cv2.erode(blackAndWhiteImage, kernel)\n",
    "\n",
    "    final = img_frangi * blackAndWhiteImage\n",
    "    \n",
    "    kernel = np.ones((3, 3), np.uint8)\n",
    "    arr = final > 0\n",
    "    close = mp.remove_small_objects(arr, 10000)\n",
    "    return close\n",
    "\n",
    "\n"
   ]
  },
  {
   "cell_type": "code",
   "execution_count": null,
   "metadata": {},
   "outputs": [],
   "source": [
    "\n",
    "directory = 'images'\n",
    "images = widgets.Dropdown(options=os.listdir(directory))\n",
    "\n",
    "# Updates the image options based on directory value\n",
    "def update_images(*args):\n",
    "    images.options = os.listdir(directory.value)\n",
    "    \n",
    "def show_images(file):\n",
    "    img = imageio.imread(f'images/{file}').astype('uint8')\n",
    "    plt.imshow(img)\n",
    "_ = interact(show_images, file=images)"
   ]
  },
  {
   "cell_type": "code",
   "execution_count": null,
   "metadata": {},
   "outputs": [],
   "source": [
    "img = imageio.imread(f'images/{images.value}').astype('uint8')\n",
    "file2=images.value.rstrip('.ppm')+'.vk.ppm'\n",
    "label = imageio.imread(f'labels/{file2}').astype('uint8')\n",
    "\n",
    "\n",
    "f_0 =compare(img_green2gray(img),img_green2gray_limit(img))\n",
    "\n",
    "#f_1 = mp.dilation(sobel(sobel(sobel(feature.canny(f_0, sigma=3)))))\n",
    "\n",
    "f_1 = image_processing(img)\n",
    "\n",
    "\n",
    "edge=sobel(feature.canny(img_green2gray(img), sigma=6))\n",
    "edge=mp.dilation(edge,square(7))\n",
    "mask= compare_2(f_1,edge)  \n",
    "    \n",
    "\n",
    "fig, ax = plt.subplots(ncols=2, figsize=(20, 30), nrows=3)\n",
    "\n",
    "ax[0][0].imshow(img.astype('uint8'))\n",
    "ax[0][0].set_title('Original image')    \n",
    "\n",
    "ax[0][1].imshow(label, cmap=plt.cm.gray)\n",
    "ax[0][1].set_title('Hand label image')\n",
    "\n",
    "ax[1][0].imshow(f_0, cmap=plt.cm.gray)\n",
    "ax[1][0].set_title('Image with filters')\n",
    "\n",
    "ax[1][1].imshow(f_1, cmap=plt.cm.gray)\n",
    "ax[1][1].set_title('Final image')\n",
    "\n",
    "ax[2][0].imshow(edge, cmap=plt.cm.gray)\n",
    "ax[2][0].set_title('Edge only')\n",
    "\n",
    "ax[2][1].imshow(mask, cmap=plt.cm.gray)\n",
    "ax[2][1].set_title('Final result')\n",
    "\n"
   ]
  },
  {
   "cell_type": "markdown",
   "metadata": {},
   "source": [
    "## Ocena skuteczności"
   ]
  },
  {
   "cell_type": "code",
   "execution_count": null,
   "metadata": {},
   "outputs": [],
   "source": [
    "tp=[]\n",
    "tn=[]\n",
    "fp=[]\n",
    "fn=[]\n",
    "masks=[]\n",
    "for i in range(len(images.options)):\n",
    "    print(images.options[i])\n",
    "    tp.append(0)\n",
    "    tn.append(0)\n",
    "    fp.append(0)\n",
    "    fn.append(0)\n",
    "    img = imageio.imread(f'images/{images.options[i]}').astype('uint8')\n",
    "    file2=images.options[i].rstrip('.ppm')+'.vk.ppm'\n",
    "    label = imageio.imread(f'labels/{file2}').astype('uint8')\n",
    "\n",
    "    f_1 = image_processing(img)\n",
    "    edge=sobel(feature.canny(img_green2gray(img), sigma=6))\n",
    "    edge=mp.dilation(edge,square(7))\n",
    "    mask= compare_2(f_1,edge)\n",
    "    masks.append(mask)\n",
    "    for k in range(img.shape[0]):\n",
    "        for j in range(img.shape[1]):\n",
    "            if mask[k][j] == 255:\n",
    "                if label[k][j] == 255:\n",
    "                     tp[i]+=1\n",
    "                else:\n",
    "                     fp[i]+=1                 \n",
    "            else:\n",
    "                if label[k][j] == 255:\n",
    "                     fn[i]+=1\n",
    "                else:\n",
    "                     tn[i]+=1 "
   ]
  },
  {
   "cell_type": "code",
   "execution_count": null,
   "metadata": {},
   "outputs": [],
   "source": [
    "print(tp)\n",
    "print(tn)\n",
    "print(fp)\n",
    "print(fn)"
   ]
  },
  {
   "cell_type": "code",
   "execution_count": null,
   "metadata": {},
   "outputs": [],
   "source": [
    "accuracy=[]\n",
    "sensitivity=[]\n",
    "specificity=[]\n",
    "for i in range(len(tp)):\n",
    "    accuracy.append((tp[i]+tn[i])/(tp[i]+tn[i]+fp[i]+fn[i]))\n",
    "    sensitivity.append(tp[i]/(tp[i]+fn[i]))\n",
    "    specificity.append(tn[i]/(tn[i]+fp[i]))"
   ]
  },
  {
   "cell_type": "code",
   "execution_count": null,
   "metadata": {},
   "outputs": [],
   "source": [
    "for i in range(len(images.options)):\n",
    "    print(images.options[i])\n",
    "    print(\"accuracy: \" + str(accuracy[i]))\n",
    "    print(\"sensitivity: \" +str(sensitivity[i]))\n",
    "    print(\"specificity: \" + str(specificity[i])) \n",
    "    print(\"G-Mean: \" + str(math.sqrt(sensitivity[i]*specificity[i])))\n",
    "    print(\"Confusion matrix\")\n",
    "    print(\"tp  \" + str(tp[i]) + \"  fp  \" + str(fp[i]) )\n",
    "    print(\"fn  \"  + str(fn[i]) +  \"  tn  \"  + str(tn[i]) + \"\\n\")\n",
    "\n",
    "\n"
   ]
  },
  {
   "cell_type": "code",
   "execution_count": null,
   "metadata": {
    "scrolled": false
   },
   "outputs": [],
   "source": [
    "fig, ax = plt.subplots(ncols=4, nrows=len(images.options)//2+(len(images.options)%2), figsize=(40, 10*len(images.options)//2+(len(images.options)%2)))\n",
    "for i in range(len(images.options)):\n",
    "    img = imageio.imread(f'images/{images.options[i]}').astype('uint8')\n",
    "    ax[i//2][0+(i%2)*2].imshow(img.astype('uint8'))\n",
    "    ax[i//2][0+(i%2)*2].set_title(f'Original image no. {images.options[i]}')\n",
    "    img2=apply_mask(img, masks[i])\n",
    "    ax[i//2][1+(i%2)*2].imshow(img2.astype('uint8'))\n",
    "    ax[i//2][1+(i%2)*2].set_title(f'Original image no. {i} with mask ',)\n",
    "fig.savefig('image_mask.png')"
   ]
  },
  {
   "cell_type": "markdown",
   "metadata": {},
   "source": [
    "## Las decyzyjny "
   ]
  },
  {
   "cell_type": "code",
   "execution_count": null,
   "metadata": {},
   "outputs": [],
   "source": [
    "def normalize(img):\n",
    "    return img / np.max(img)\n",
    "\n",
    "def calc_contrast(val, lo, hi):\n",
    "    if val < lo:\n",
    "        return 0\n",
    "    if val > hi:\n",
    "        return 1\n",
    "    return (val - lo)/(hi - lo)\n",
    "\n",
    "\n",
    "def contrast_image(img, low, high):\n",
    "    res = [[calc_contrast(x, low, high) for x in y] for y in img]\n",
    "    return np.array(res)\n",
    "\n",
    "\n",
    "\n",
    "def threshold(img, threshpoint):\n",
    "    return np.array([[1 if x >= threshpoint else 0 for x in y] for y in img])\n",
    "\n",
    "\n",
    "def apply_mask(img, mask):\n",
    "    print(np.shape(img))\n",
    "    print(np.shape(mask))\n",
    "    res = []\n",
    "    for i in range(len(img)):\n",
    "        res.append([])\n",
    "        for j in range(len(img[i])):\n",
    "            res[i].append(img[i][j] if mask[i][j] == 0 else 1)\n",
    "    return np.array(res)\n",
    "\n",
    "def load_img(img_num, directory):\n",
    "    if img_num < 10:\n",
    "        img_num = f\"im000{img_num}\"\n",
    "    elif img_num < 100:\n",
    "        img_num = f\"im00{img_num}\"\n",
    "    else:\n",
    "        img_num = f\"im0{img_num}\"\n",
    "    if directory == 'photos':\n",
    "        return np.array(color.rgb2gray(io.imread(f'images/{img_num}.ppm')))\n",
    "    elif directory == 'labels':\n",
    "        return np.array(io.imread(f'labels/{img_num}.vk.ppm'))\n",
    "    \n",
    "\n",
    "img_num = 163\n",
    "img = load_img(img_num, 'photos') #default picture\n",
    "slice_size = 8\n",
    "#plt.imshow(img)\n"
   ]
  },
  {
   "cell_type": "code",
   "execution_count": null,
   "metadata": {},
   "outputs": [],
   "source": [
    "directory = 'images'\n",
    "images = widgets.Dropdown(options=os.listdir(directory))\n",
    "# Updates the image options based on directory value\n",
    "def update_images(*args):\n",
    "    images.options = os.listdir(directory.value)\n",
    "    \n",
    "def show_images(file):\n",
    "    img = imageio.imread(f'images/{file}').astype('uint8')\n",
    "    plt.imshow(img)\n",
    "_ = interact(show_images, file=images)"
   ]
  },
  {
   "cell_type": "code",
   "execution_count": null,
   "metadata": {},
   "outputs": [],
   "source": [
    "#Prepare dataframe\n",
    "def increase_contrast(img):\n",
    "    nonzero_photo = img[np.nonzero(img)]\n",
    "    percentiles = np.percentile(nonzero_photo,(2, 99))\n",
    "    return contrast_image(img, percentiles[0], percentiles[1])\n",
    "\n",
    "def detect_edges(img):\n",
    "    img_sobel = filters.sobel(img)\n",
    "    perc = np.percentile(img_sobel, (1, 99))\n",
    "    return contrast_image(img_sobel, perc[0], perc[1])\n",
    "\n",
    "def apply_morphology(img):\n",
    "    result = threshold(img, 0.23)\n",
    "    result = mp.erosion(result, mp.square(2))\n",
    "    result = mp.dilation(result, mp.square(2))\n",
    "    return mp.dilation(result, mp.square(2))\n",
    "\n",
    "def flatten(arr):\n",
    "    return functools.reduce(operator.iconcat, arr, [])\n",
    "\n",
    "def print_evaluation_summary(labels, ground_truth):\n",
    "    \n",
    "    cf_mx = metrics.confusion_matrix(ground_truth, labels)\n",
    "    print('Accuracy: ', (cf_mx[0,0]+cf_mx[1,1])/sum(flatten(cf_mx)))\n",
    "    print('Sensitivity: ', cf_mx[1,1]/(cf_mx[1,0] + cf_mx[1,1]))\n",
    "    print('Specificity: ', cf_mx[0,0]/(cf_mx[0,0] + cf_mx[0,1]))\n",
    "    \n",
    "    print(\"G-Mean: \" + str(math.sqrt((cf_mx[1,1]/(cf_mx[1,0] + cf_mx[1,1]))*(cf_mx[0,0]/(cf_mx[0,0] + cf_mx[0,1])))))\n",
    "    \n",
    "    print(\"Confusion matrix\")\n",
    "    print(\"tp  \" + str(cf_mx[1,1]) + \"  fp  \" + str(cf_mx[0,1]) )\n",
    "    print(\"fn  \"  + str(cf_mx[1,0]) +  \"  tn  \"  + str(cf_mx[1,1]) + \"\\n\")    \n",
    "    \n",
    "\n",
    "def round_to_slice_size(dim):\n",
    "    return slice_size * ((dim-slice_size) // slice_size)\n",
    "\n",
    "def slice_image(image, step):\n",
    "    slices = []\n",
    "\n",
    "    for r in range(0, round_to_slice_size(image.shape[0]), step):\n",
    "        for c in range(0, round_to_slice_size(image.shape[1]), step):\n",
    "            slices.append(image[r:r+slice_size, c:c+slice_size])\n",
    "\n",
    "    return slices\n",
    "\n",
    "def to_hu_moments(imgs):\n",
    "    hu_list = []\n",
    "    for img in imgs:\n",
    "        moments = cv2.moments(np.vectorize(float)(img))\n",
    "        hu_moments = cv2.HuMoments(moments)\n",
    "        hu_list.append(flatten(hu_moments))\n",
    "        \n",
    "    return pd.DataFrame(hu_list)\n",
    "\n",
    "def reshape_labels(labels, shape):\n",
    "    return labels.reshape(round_to_slice_size(shape[0]), round_to_slice_size(shape[1]))\n",
    "\n",
    "def preprocess(img):\n",
    "    img = normalize(img) \n",
    "    img = increase_contrast(img)\n",
    "    img = detect_edges(img)\n",
    "    return img\n",
    "\n",
    "def take_samples(img, step):\n",
    "    slices = slice_image(img, step)\n",
    "    slices = [flatten(slice) for slice in slices]\n",
    "    slices = np.append(slices, to_hu_moments(slices), axis=1)\n",
    "    return pd.DataFrame(slices)\n",
    "\n",
    "def label_samples(img, step):\n",
    "    slices = slice_image(img, step)\n",
    "    central_pixels = [np.round(slice[slice_size//2][slice_size//2]) for slice in slices]\n",
    "    return pd.DataFrame(central_pixels)\n",
    "\n",
    "def prepare_data(i, slice_step):\n",
    "    x_img = load_img(i, 'photos')\n",
    "    y_img = load_img(i, 'labels')\n",
    "    x_img = preprocess(x_img)\n",
    "    y_img = normalize(y_img)\n",
    "    samples = take_samples(x_img, slice_step)\n",
    "    labels = label_samples(y_img, slice_step)\n",
    "    return samples.assign(label = labels)\n",
    "\n",
    "def downsample(df):\n",
    "    minority_count = int(np.sum(df.loc[:, 'label']))\n",
    "    minority_df = df[df.label == 1]\n",
    "    majority_df = df[df.label == 0]\n",
    "    majority_df = resample(majority_df, replace=False, n_samples=minority_count)\n",
    "    return pd.concat([minority_df, majority_df])\n",
    "\n",
    "frames = []\n",
    "training_images = [1,2,3,4,5,44,77,81,82]\n",
    "for i in training_images:\n",
    "    df = prepare_data(i, 6)\n",
    "    df = downsample(df)\n",
    "    frames.append(df)\n",
    "training_df = pd.concat(frames)\n",
    "\n"
   ]
  },
  {
   "cell_type": "code",
   "execution_count": null,
   "metadata": {},
   "outputs": [],
   "source": [
    "#train the classifier\n",
    "clf = ensemble.RandomForestClassifier(n_estimators=100, random_state=1)\n",
    "clf.fit(training_df.loc[:, training_df.columns != 'label'], training_df.loc[:,'label'])\n",
    "\n",
    "\n",
    "scores = cross_val_score(clf, training_df.loc[:, training_df.columns != 'label'], training_df.loc[:,'label'], cv=5, verbose=20, n_jobs=4)\n",
    "scores"
   ]
  },
  {
   "cell_type": "code",
   "execution_count": null,
   "metadata": {},
   "outputs": [],
   "source": [
    "#classify the image\n",
    "img_num = int(images.value.rstrip('.ppm').lstrip('im0')) #value from interactive box\n",
    "full_img_df = prepare_data(img_num, 1)\n",
    "labels = clf.predict(full_img_df.loc[:, full_img_df.columns != 'label'])\n",
    "\n",
    "full_img_labels = normalize(load_img(img_num, 'labels'))\n",
    "io.imshow(load_img(img_num, 'photos'))\n",
    "io.show()\n",
    "io.imshow(reshape_labels(labels, full_img_labels.shape))"
   ]
  },
  {
   "cell_type": "code",
   "execution_count": null,
   "metadata": {},
   "outputs": [],
   "source": [
    "#output to files\n",
    "clipped_output_img = full_img_labels[:round_to_slice_size(full_img_labels.shape[0]), :round_to_slice_size(full_img_labels.shape[1])]\n",
    "print_evaluation_summary(labels, flatten(clipped_output_img))\n",
    "io.imshow(full_img_labels)\n",
    "labels_output = reshape_labels(labels, full_img_labels.shape)\n",
    "shape = np.shape(labels_output)\n",
    "res = apply_mask(load_img(img_num, 'photos')[:shape[0], :shape[1]],labels_output)\n",
    "io.imshow(res)\n",
    "cv2.imwrite('expert_mask.jpg', full_img_labels * 255)\n",
    "cv2.imwrite('output_image.jpg', res * 255)\n",
    "cv2.imwrite('our_mask.jpg', labels_output * 255)"
   ]
  },
  {
   "cell_type": "code",
   "execution_count": null,
   "metadata": {},
   "outputs": [],
   "source": []
  }
 ],
 "metadata": {
  "kernelspec": {
   "display_name": "Python 3 (ipykernel)",
   "language": "python",
   "name": "python3"
  },
  "language_info": {
   "codemirror_mode": {
    "name": "ipython",
    "version": 3
   },
   "file_extension": ".py",
   "mimetype": "text/x-python",
   "name": "python",
   "nbconvert_exporter": "python",
   "pygments_lexer": "ipython3",
   "version": "3.9.7"
  },
  "widgets": {
   "application/vnd.jupyter.widget-state+json": {
    "state": {
     "09d9134ae77a4d61a59707bf5b4148ec": {
      "model_module": "@jupyter-widgets/controls",
      "model_module_version": "1.5.0",
      "model_name": "DropdownModel",
      "state": {
       "_options_labels": [
        "png",
        "dcm"
       ],
       "description": "fdir",
       "index": 0,
       "layout": "IPY_MODEL_eac02033cc4a411d86d0ef5358f2e3d2",
       "style": "IPY_MODEL_37c6ae8ab7944d17ae1cc868c62e74ec"
      }
     },
     "11aa8c122ec64395963279a546f87edd": {
      "model_module": "@jupyter-widgets/controls",
      "model_module_version": "1.5.0",
      "model_name": "DescriptionStyleModel",
      "state": {
       "description_width": ""
      }
     },
     "23aa0ee139bc49c6bf62143f21e385eb": {
      "model_module": "@jupyter-widgets/output",
      "model_module_version": "1.0.0",
      "model_name": "OutputModel",
      "state": {
       "layout": "IPY_MODEL_67a53894e2e34026b0c2a77e3916beb0",
       "outputs": [
        {
         "name": "stderr",
         "output_type": "stream",
         "text": "Clipping input data to the valid range for imshow with RGB data ([0..1] for floats or [0..255] for integers).\n"
        },
        {
         "data": {
          "image/png": "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\n",
          "text/plain": "<Figure size 432x288 with 1 Axes>"
         },
         "metadata": {
          "needs_background": "light"
         },
         "output_type": "display_data"
        }
       ]
      }
     },
     "37c6ae8ab7944d17ae1cc868c62e74ec": {
      "model_module": "@jupyter-widgets/controls",
      "model_module_version": "1.5.0",
      "model_name": "DescriptionStyleModel",
      "state": {
       "description_width": ""
      }
     },
     "494bde591dab4773b734317b121a0626": {
      "model_module": "@jupyter-widgets/controls",
      "model_module_version": "1.5.0",
      "model_name": "DropdownModel",
      "state": {
       "_options_labels": [
        "png",
        "dcm"
       ],
       "description": "fdir",
       "index": 0,
       "layout": "IPY_MODEL_d38650be70444fb5a5492969f2b9736b",
       "style": "IPY_MODEL_11aa8c122ec64395963279a546f87edd"
      }
     },
     "4fca99e4c51240529fb1c99a2a2e6bb0": {
      "model_module": "@jupyter-widgets/base",
      "model_module_version": "1.2.0",
      "model_name": "LayoutModel",
      "state": {}
     },
     "67a53894e2e34026b0c2a77e3916beb0": {
      "model_module": "@jupyter-widgets/base",
      "model_module_version": "1.2.0",
      "model_name": "LayoutModel",
      "state": {}
     },
     "7862e4de2193448cbadc60ff1d9b9a6f": {
      "model_module": "@jupyter-widgets/controls",
      "model_module_version": "1.5.0",
      "model_name": "DropdownModel",
      "state": {
       "_options_labels": [
        "CT_ScoutView-large.png",
        "desktop.ini",
        "Kolo.png",
        "Kwadraty2.png",
        "Shepp_logan.png"
       ],
       "description": "file",
       "index": 4,
       "layout": "IPY_MODEL_e27a42aeea564cf48ddf7e9008c3fe76",
       "style": "IPY_MODEL_937e53286eca4e42817197da67343db6"
      }
     },
     "81eee5ed62214915a418ca15c7abc846": {
      "model_module": "@jupyter-widgets/controls",
      "model_module_version": "1.5.0",
      "model_name": "DropdownModel",
      "state": {
       "_options_labels": [
        "CT_ScoutView-large.png",
        "desktop.ini",
        "Kolo.png",
        "Kwadraty2.png",
        "Shepp_logan.png"
       ],
       "description": "file",
       "index": 4,
       "layout": "IPY_MODEL_966757c1079645a7b9899b5b07b1dee7",
       "style": "IPY_MODEL_b4e2b578a20e407dbad23e17455b4f9d"
      }
     },
     "8a82e35440e94e1abaecbf9e1709d4c4": {
      "model_module": "@jupyter-widgets/controls",
      "model_module_version": "1.5.0",
      "model_name": "VBoxModel",
      "state": {
       "_dom_classes": [
        "widget-interact"
       ],
       "children": [
        "IPY_MODEL_09d9134ae77a4d61a59707bf5b4148ec",
        "IPY_MODEL_81eee5ed62214915a418ca15c7abc846",
        "IPY_MODEL_9b3d8f49cf184dfcb0767260512a35d3"
       ],
       "layout": "IPY_MODEL_b977f1813b8f49fa8e2d9cde5c98d311"
      }
     },
     "937e53286eca4e42817197da67343db6": {
      "model_module": "@jupyter-widgets/controls",
      "model_module_version": "1.5.0",
      "model_name": "DescriptionStyleModel",
      "state": {
       "description_width": ""
      }
     },
     "966757c1079645a7b9899b5b07b1dee7": {
      "model_module": "@jupyter-widgets/base",
      "model_module_version": "1.2.0",
      "model_name": "LayoutModel",
      "state": {}
     },
     "9b3d8f49cf184dfcb0767260512a35d3": {
      "model_module": "@jupyter-widgets/output",
      "model_module_version": "1.0.0",
      "model_name": "OutputModel",
      "state": {
       "layout": "IPY_MODEL_4fca99e4c51240529fb1c99a2a2e6bb0",
       "outputs": [
        {
         "name": "stderr",
         "output_type": "stream",
         "text": "Clipping input data to the valid range for imshow with RGB data ([0..1] for floats or [0..255] for integers).\n"
        },
        {
         "data": {
          "image/png": "iVBORw0KGgoAAAANSUhEUgAAAQ8AAAD8CAYAAABpXiE9AAAABHNCSVQICAgIfAhkiAAAAAlwSFlzAAALEgAACxIB0t1+/AAAADh0RVh0U29mdHdhcmUAbWF0cGxvdGxpYiB2ZXJzaW9uMy4xLjMsIGh0dHA6Ly9tYXRwbG90bGliLm9yZy+AADFEAAAT+klEQVR4nO3db6wcV33G8e/TGCcQCrZTQMF260RYtKhSm9QCBxCqCNAkRTgvghpEhUuDLPUvfypRp32BeEmFCEWtAhaBmopCaIgaK2qLoiRS+wYXu2lDEhNsQhtfYkhQEoNAKlj8+mLP5o7v3Xvv7szuzDkzz0da3Z3ZuXfPnjnzzJkzs3MVEZiZzernui6AmZXJ4WFmtTg8zKwWh4eZ1eLwMLNaHB5mVkvr4SHpGkmPSjol6WDb729m86E2r/OQdAHwTeDNwBLwNeAdEfFIa4Uws7lou+fxauBURDwWET8Bvgjsa7kMZjYHm1p+v+3A6cr0EvCa6gKSDgAH0uRvtFQusyH7fkS8ZNZfajs8NGHeecdNEXEIOAQgydfOmy3e/9b5pbYPW5aAnZXpHcATLZfBzOag7fD4GrBb0mWSNgM3AkdaLoOZzUGrhy0RcU7SHwNfAS4APhMRD7dZBjObj1ZP1c7KYx5mrTgeEXtm/SVfYWpmtTg8zKwWh4eZ1dL2dR5WmEWMiUl67m+Pn1t5HB4GLCYkpnmv8XNJDpPCODwsC+MQqQaLgyRvHvMYoOqGOn7kKNdy2Yh7HgNVyobpnki+HB4DMB5LKCUw1rKy/A6TbvmwpYcmhUTpwbGW3A+9+sw9j54awsa08kyNtcs9DyveylO/DpJ2ODx6ZsgbTrUnYovnw5YeGHJgTOKLzdrhnkfBHBpr8+HL4jk8CucNZH2un8VxeBTKG8X0XFeL4fAokDeG2U367ow14wHTArjBz8fKAPGgajPueRTCDd1y4/AohHsflhuHR+YcGovj07nNODwy5oZtOXN4ZMZnBdrnOq/H4ZEhN+L2uc5n5/Aws1ocHpnwni8PXg/Tc3hkwMfcefFZmOk4PMwm8N3JNubwMJvA9wTZmMOjY9675cvrZn0Ojw65cebP62htDo8OuEGWxetrModHBzwYVyavs/PVDg9JOyXdL+mEpIclvTfN3ybpHkkn08+tab4kfULSKUkPSrpyXh+iNG6E5fE6W61Jz+Mc8GcR8SvAXuCPJL0KOAjcGxG7gXvTNMC1wO70OADc2uC9i+VGWDavv2W1wyMizkTEf6bnPwROANuBfcDhtNhh4Pr0fB/wuRj5KrBF0qW1S27WAR9yLpvLmIekXcAVwFHgZRFxBkYBA7w0LbYdOF35taU0b+XfOiDpmKRj8yhbLnzVYj/4+o9ljcND0guBLwPvi4gfrLfohHmrtqaIOBQReyJiT9Oy5cCh0T/+OsFIo/CQ9DxGwfH5iLgzzf7e+HAk/XwyzV8CdlZ+fQfwRJP3N+vS0HsgTc62CLgNOBERH6u8dATYn57vB+6qzH9XOuuyFzg7PrwxK417lKC6FSDp9cC/A18HfpZm/wWjcY8vAb8IPA68PSKeTmHzN8A1wI+Bd0fEuuMaknqxdobeyPqsJ72P43WGCWqHRxv6EB451681N+Tw8BWmZg0Meefg8FigITcs6z+Hx4I4OIZjqIOnDo8FGGJDsuFxeJjN0ZB2HA6PORtS47HzDW3dOzzMrBaHh9kc9eS6j6k4POZoaN1WW21IbcDhYTZnQwkQh8ecDKXBmI05PMysFofHHLjXYSsN4apTh0dDfW8gZmtxeDQ0pFNzZlUOj4bc87C19H3H4vAwW5C+71g2dV2AknXdOKp7tq7LYsPjnkdNXf7/jknvK6n33eQS9fmsi8Ojpq7+c9g4INYKCoeItcXhUZBpA2u8jEPEFsljHjW13evYqMcxadnq8752na077nkUoGkPwsFhi+Cex4xK3BDd++heHw8l3fOYUckr34OpNk8OD7OW9C24HR4zctffbMThkblF7K36tgcsRd92PA6PGbW54Xkjn814TMf11g6fbZlR3/YefbDW5frg9bVI7nnMoO2G6Ia/vml6Ge6FLI7DYwZtN8RFvl/pG9Us5S/9s+bK4ZEx9zz6p0/rtHF4SLpA0gOS7k7Tl0k6KumkpNslbU7zL0zTp9Lru5q+d98tco/Zp0Y8Dfc+5m8ePY/3Aicq0x8BbomI3cAzwE1p/k3AMxHxCuCWtFxR+rTBlXpWok65+3xPjS41Cg9JO4DfBj6dpgW8EbgjLXIYuD4935emSa9frRJbrxXJTW3+mvY8Pg58EPhZmr4EeDYizqXpJWB7er4dOA2QXj+blj+PpAOSjkk61rBsxfPeclmTnlKOwdGHdVs7PCS9FXgyIo5XZ09YNKZ4bXlGxKGI2BMRe+qWzaaX44Y1SR82tqpS6n09TS4Sex3wNknXARcBL2LUE9kiaVPqXewAnkjLLwE7gSVJm4AXA083eP/WdNVw22pgXd1ScVp92NCqurz/7TzV7nlExM0RsSMidgE3AvdFxDuB+4Eb0mL7gbvS8yNpmvT6fZFzi60odXBxWjmvhnkGW5/XYRcWcZ3HnwMfkHSK0ZjGbWn+bcAlaf4HgIMLeO+F6Ptofe7hmHPZhkw5bxSSsilcl3dKb0tubWERnz+Xz5hZIB6vM8boK0ynkEuDW7TceyCWF4fHFIa2QfX18+a0E8ipLHU5PCxLfQ2wPnF42ERdHsI4OMrg8JhCH7qYdXkcxNbi8MjYEEPLQVUOh4eZ1eLwsKm00SNY1HsMsQfXBoeH9V7u390plcMjczk1+lLvqdqXL6LlxuGROTf6+cgphPvC4WFZWOTG7QBeDIdH5nLbY5b47y9zq8O+cHhswA1v2SJvTVDqeEpTJbcvh4f1Xq4baK7lmpb/V+0GfJpvWXUP7jppLuce0TTc8yhAnzfURYdzn+uuaw6PQvR5IxjqeEfpHB6FyGkjKCnISipraRweNrN5fU0/p0C02Tk8CpHbHjS38qyUe/n6wOGxATfCydxraK70tuXwKEif/n9MG6fAS6irEsq4FofHBnLbw+ZWnib69FnqKP0Wjw6PwpS8p7J+cXgUJqc9VU5lsfY5PArjnoflwuFRoFwGTnMowyS5lqtvHB6F8iGDdc3hYWa1ODwK5a75arkczg2Fw8Nqq3vo5EOufnB4TMGNfb7cO+gHh8cU3NjXlkOwev10o1F4SNoi6Q5J35B0QtJVkrZJukfSyfRza1pWkj4h6ZSkByVdOZ+PMFzeaJaVVhc5hG5TTXsefw38a0T8MvBrwAngIHBvROwG7k3TANcCu9PjAHBrw/duTR9WdJ95/XSjdnhIehHwBuA2gIj4SUQ8C+wDDqfFDgPXp+f7gM/FyFeBLZIurV1yA3yGAcrrdUCZZV6pSc/jcuAp4LOSHpD0aUkXAy+LiDMA6edL0/LbgdOV319K884j6YCkY5KONSjbXOW+or3nLU8f1lmT8NgEXAncGhFXAD9i+RBlkkm1tWqrjIhDEbEnIvY0KNvc5byycw+3RSr1s5da7qom4bEELEXE0TR9B6Mw+d74cCT9fLKy/M7K7+8Anmjw/q3JOTiq+tAgZzG0z5ub2uEREd8FTkt6ZZp1NfAIcATYn+btB+5Kz48A70pnXfYCZ8eHN9ZcRBQTcvPg4Ohe0/8Y9yfA5yVtBh4D3s0okL4k6SbgceDtadl/Bq4DTgE/TsvaAA0p5NbShzpQzgkuKavC5VxXVW03zFnrpUn5SlkH68kwOI7XGWP0FaY9k2HDXKUPAWAOj5l4wzRb5vCYQSkbZp8uHKt+jr58pr5weMyghJ7HWEllnYaDIz8OjxmU1IBz731MU77x6eecP8eQOTwsWw6OvDk8ZlD6f/jK3crxjT4GR5/aT9OLxAantAa96CtPm9bHyt8vrX6HzD2PGZW451jkBllifXSlb3Xl8JhRqXvGRR0GlFofXehbXTk8ZtS3vUcTfdsYFqmP7cbhMTDz3OD7uEEsUt/qywOmNZR+CrFa9roNuuTPb/Ph8BiooX+z1ZrzYUtNpXdBqwOos4TB0G46NA99rS+HR0192fvOEga+XLyevtaXw6OmPu1Npj2N6+Cop09tpcpjHjX1cSMaf6ZJjb2Pn9eacXjUNN7A+rhR9fEzdaWvvQ7wYYvZwvQ5OMDhYbYwfe/BOTzMFsQ9D9tQ3xuJ2SQOj4YcHDbJENqFw8PManF4zMkQ9jRmVQ4Pszkbyo7E4TFHQ2k0ZuDwMJurIe1AHB5zNqTGY6v1/cKwKn+3xWxOhrbjcM9jAYbWiGyY69zhYTYHQzpcGWsUHpLeL+lhSQ9J+oKkiyRdJumopJOSbpe0OS17YZo+lV7fNY8PkKsh7omGaqjrunZ4SNoO/CmwJyJ+FbgAuBH4CHBLROwGngFuSr9yE/BMRLwCuCUt12tDbVRDM9T7ujY9bNkEPF/SJuAFwBngjcAd6fXDwPXp+b40TXr9ag2xxq13htqMa4dHRHwH+CjwOKPQOAscB56NiHNpsSVge3q+HTidfvdcWv6SlX9X0gFJxyQdq1u2nAy1YQ3FkNdvk8OWrYx6E5cBLwcuBq6dsOh4JGlSLa8aZYqIQxGxJyL21C2bWRuGHBzQ7LDlTcC3I+KpiPgpcCfwWmBLOowB2AE8kZ4vATsB0usvBp5u8P5FGOrx8BAM8QxLVZPweBzYK+kFaeziauAR4H7ghrTMfuCu9PxImia9fl8MvfatWJIGv1NQk+1X0oeB3wHOAQ8A72E0tvFFYFua97sR8X+SLgL+HriCUY/jxoh4bIO/36twcVb2R8+C43idYYJG4bFofQsPcICUbvyPrxwevsLUbCYO/2X+YlzL/C8by9Wz3kZj7nl0wI2wPA791RweHXAjLJND/3wOj464IVrpHB4dGAeHA6QMXk+TOTw65oaZL6+b9Tk8OubxDyuVw6Njvsw5b143a3N4ZMC9DyuRLxLLwHjv5hDpnnsa03PPIyNuuN1y/c/G4ZEhN+JuuOc3G4dHZnwNSDc8cD07h4cNmgOjPodHxrw3XCz38ppxeJhZLT5Va4PjnsZ8uOdRgOrhixt+M66/+XF4FMQNvxnf0Ge+HB4F8kDq7Nxzmz+HR8G8IViXPGBqveVwXSyHR+GqG4iP50ccGu3wYUtPODhGPCjaHvc8emLoPZDq53fPox0Oj54aepjY4jk8emjlnrePXXn3Lrrn8BiIPvREHBh5cXgMzMr/8F5qkFj3HB4DM+mQBvILEfcy8ufwMOD8EOlqjGRSj8ghki+Hh52n+h2QRQbJRqHg0Mifw8PW5C+T2Xo2vMJU0mckPSnpocq8bZLukXQy/dya5kvSJySdkvSgpCsrv7M/LX9S0v7FfBwza8s0l6f/HXDNinkHgXsjYjdwb5oGuBbYnR4HgFthFDbAh4DXAK8GPjQOHDMr04bhERH/Bjy9YvY+4HB6fhi4vjL/czHyVWCLpEuB3wLuiYinI+IZ4B5WB5KZFaTumMfLIuIMQESckfTSNH87cLqy3FKat9b8VSQdYNRrMbOMzXvAdNLIWqwzf/XMiEPAIQBJeV18YGbPqfuV/O+lwxHSzyfT/CVgZ2W5HcAT68w3s0LVDY8jwPiMyX7grsr8d6WzLnuBs+nw5ivAWyRtTQOlb0nzzKxUEbHuA/gCcAb4KaMexE3AJYzOspxMP7elZQX8LfAt4OvAnsrf+X3gVHq8e6P3Tb8Tfvjhx8Ifx6bZHlc+lNt3Gqok/RB4tOtyTOkXgO93XYgplFJOKKespZQTJpf1lyLiJbP+odyvMH00IvZ0XYhpSDpWQllLKSeUU9ZSygnzLavvYWpmtTg8zKyW3MPjUNcFmEEpZS2lnFBOWUspJ8yxrFkPmJpZvnLveZhZphweZlZLtuEh6RpJj6Z7gxzc+DcWWpadku6XdELSw5Lem+bPfF+Tlsp7gaQHJN2dpi+TdDSV83ZJm9P8C9P0qfT6rpbLuUXSHZK+ker2qozr9P1p3T8k6QuSLsqhXju9306dK8sW/QAuYHSV6uXAZuC/gVd1WJ5LgSvT858Hvgm8Cvgr4GCafxD4SHp+HfAvjK643Qscbbm8HwD+Abg7TX8JuDE9/yTwB+n5HwKfTM9vBG5vuZyHgfek55uBLTnWKaNvgH8beH6lPn8vh3oF3gBcCTxUmTdTHQLbgMfSz63p+dYN37vNxjJDhVwFfKUyfTNwc9flqpTnLuDNjK5+vTTNu5TRRW0AnwLeUVn+ueVaKNsORl8ZeCNwd2oo3wc2raxbRt8vuio935SWU0vlfFHaILVifo51Or6lxLZUT3czukdNFvUK7FoRHjPVIfAO4FOV+ectt9Yj18OWqe//0bbUBb0COMqK+5oAG93XpA0fBz4I/CxNXwI8GxHnJpTluXKm18+m5dtwOfAU8Nl0iPVpSReTYZ1GxHeAjwKPM/qe11ngOHnWK8xeh7XqNtfwmPr+H22S9ELgy8D7IuIH6y06Yd7Cyy/prcCTEXF8yrJ0Wc+bGHW3b42IK4AfsXw7y0k6K2saM9gHXAa8HLiY0S031ypPlu2XOdxvpyrX8Mju/h+SnscoOD4fEXem2bPe12TRXge8TdL/AF9kdOjycUa3gxx/j6lalufKmV5/MatvObkoS8BSRBxN03cwCpPc6hTgTcC3I+KpiPgpcCfwWvKsV2jpfju5hsfXgN1pNHszo0GnI10VRpKA24ATEfGxykuz3tdkoSLi5ojYERG7GNXZfRHxTuB+4IY1yjku/w1p+Vb2kBHxXeC0pFemWVcDj5BZnSaPA3slvSC1hXFZs6vXCe8/TR3Wu99OGwNONQeBrmN0VuNbwF92XJbXM+rGPQj8V3pcR437mrRY5t9k+WzL5cB/MLqXyj8CF6b5F6XpU+n1y1su468Dx1K9/hOjkf4s6xT4MPAN4CHg74ELc6hXOrzfji9PN7Nacj1sMbPMOTzMrBaHh5nV4vAws1ocHmZWi8PDzGpxeJhZLf8PcHmfp2cQWz4AAAAASUVORK5CYII=\n",
          "text/plain": "<Figure size 432x288 with 1 Axes>"
         },
         "metadata": {
          "needs_background": "light"
         },
         "output_type": "display_data"
        }
       ]
      }
     },
     "b4a885001e47497aa64383e8eff5c228": {
      "model_module": "@jupyter-widgets/controls",
      "model_module_version": "1.5.0",
      "model_name": "VBoxModel",
      "state": {
       "_dom_classes": [
        "widget-interact"
       ],
       "children": [
        "IPY_MODEL_494bde591dab4773b734317b121a0626",
        "IPY_MODEL_7862e4de2193448cbadc60ff1d9b9a6f",
        "IPY_MODEL_23aa0ee139bc49c6bf62143f21e385eb"
       ],
       "layout": "IPY_MODEL_f7aa93e9526c4b029d672262fd07268e"
      }
     },
     "b4e2b578a20e407dbad23e17455b4f9d": {
      "model_module": "@jupyter-widgets/controls",
      "model_module_version": "1.5.0",
      "model_name": "DescriptionStyleModel",
      "state": {
       "description_width": ""
      }
     },
     "b977f1813b8f49fa8e2d9cde5c98d311": {
      "model_module": "@jupyter-widgets/base",
      "model_module_version": "1.2.0",
      "model_name": "LayoutModel",
      "state": {}
     },
     "d38650be70444fb5a5492969f2b9736b": {
      "model_module": "@jupyter-widgets/base",
      "model_module_version": "1.2.0",
      "model_name": "LayoutModel",
      "state": {}
     },
     "e27a42aeea564cf48ddf7e9008c3fe76": {
      "model_module": "@jupyter-widgets/base",
      "model_module_version": "1.2.0",
      "model_name": "LayoutModel",
      "state": {}
     },
     "eac02033cc4a411d86d0ef5358f2e3d2": {
      "model_module": "@jupyter-widgets/base",
      "model_module_version": "1.2.0",
      "model_name": "LayoutModel",
      "state": {}
     },
     "f7aa93e9526c4b029d672262fd07268e": {
      "model_module": "@jupyter-widgets/base",
      "model_module_version": "1.2.0",
      "model_name": "LayoutModel",
      "state": {}
     }
    },
    "version_major": 2,
    "version_minor": 0
   }
  }
 },
 "nbformat": 4,
 "nbformat_minor": 2
}
